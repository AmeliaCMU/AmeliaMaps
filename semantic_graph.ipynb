{
 "cells": [
  {
   "attachments": {},
   "cell_type": "markdown",
   "metadata": {},
   "source": [
    "# Semantic Graph Visualizer"
   ]
  },
  {
   "cell_type": "code",
   "execution_count": null,
   "metadata": {},
   "outputs": [],
   "source": [
    "import os\n",
    "import pickle\n",
    "import matplotlib.pyplot as plt\n",
    "from amelia_maps.graph_processor import MapProcessor\n",
    "map_idxs = [False, False, True, True, False, False, True, True, True, False]\n",
    "\n",
    "from amelia_maps.utils.graph_utils import ROOT_DIR"
   ]
  },
  {
   "cell_type": "markdown",
   "metadata": {},
   "source": [
    "# Step by step Simplification Pipeline"
   ]
  },
  {
   "cell_type": "code",
   "execution_count": null,
   "metadata": {},
   "outputs": [],
   "source": [
    "# 2\n",
    "base_dir = f'{ROOT_DIR}/datasets/amelia'\n",
    "airport  = 'ksea'\n",
    "out_dir = f'{ROOT_DIR}/output/'\n",
    "processor = MapProcessor(base_dir, out_dir, airport, save=False, show=True)"
   ]
  },
  {
   "cell_type": "code",
   "execution_count": null,
   "metadata": {},
   "outputs": [],
   "source": [
    "raw_stats = processor.get_aiport_stats()"
   ]
  },
  {
   "cell_type": "code",
   "execution_count": null,
   "metadata": {},
   "outputs": [],
   "source": [
    "processor.semantify_nodes()\n",
    "processor.display_and_save(save=False, show=True)"
   ]
  },
  {
   "cell_type": "code",
   "execution_count": null,
   "metadata": {},
   "outputs": [],
   "source": [
    "processor.get_routing_graph()\n",
    "processor.display_and_save(False, True)"
   ]
  },
  {
   "cell_type": "code",
   "execution_count": null,
   "metadata": {},
   "outputs": [],
   "source": [
    "processor.extend_runways(extension_distance=1609)\n",
    "processor.display_and_save(False, True)"
   ]
  },
  {
   "cell_type": "code",
   "execution_count": null,
   "metadata": {},
   "outputs": [],
   "source": [
    "# Get raw data stats\n",
    "stats = processor.get_aiport_stats()\n",
    "from amelia_maps.utils.graph_utils import print_stats\n",
    "print_stats(stats)"
   ]
  },
  {
   "cell_type": "code",
   "execution_count": null,
   "metadata": {},
   "outputs": [],
   "source": [
    "processor.sanitize()\n",
    "processor.display_and_save(False, True)"
   ]
  },
  {
   "cell_type": "code",
   "execution_count": null,
   "metadata": {},
   "outputs": [],
   "source": [
    "stats = processor.get_aiport_stats()\n",
    "from amelia_maps.utils.graph_utils import print_stats\n",
    "print_stats(stats)"
   ]
  },
  {
   "cell_type": "code",
   "execution_count": null,
   "metadata": {},
   "outputs": [],
   "source": [
    "# Get filtered data stats\n",
    "stats = processor.get_aiport_stats()\n",
    "from amelia_maps.utils.graph_utils import print_stats\n",
    "print_stats(stats)"
   ]
  },
  {
   "cell_type": "code",
   "execution_count": null,
   "metadata": {},
   "outputs": [],
   "source": [
    "processor.sanitize()"
   ]
  },
  {
   "cell_type": "code",
   "execution_count": null,
   "metadata": {},
   "outputs": [],
   "source": [
    "thr = 80 # meters\n",
    "processor.supersample_graph(thr, node_separation = 80)"
   ]
  },
  {
   "cell_type": "code",
   "execution_count": null,
   "metadata": {},
   "outputs": [],
   "source": [
    "processor.display_and_save(True, True)"
   ]
  },
  {
   "cell_type": "code",
   "execution_count": null,
   "metadata": {},
   "outputs": [],
   "source": [
    "# Get final data stats\n",
    "stats = processor.get_aiport_stats()\n",
    "from amelia_maps.utils.graph_utils import print_stats\n",
    "print_stats(stats)"
   ]
  },
  {
   "cell_type": "code",
   "execution_count": null,
   "metadata": {},
   "outputs": [],
   "source": [
    "# Add before and after comparison\n",
    "processed_stats =  processor.get_aiport_stats()"
   ]
  },
  {
   "cell_type": "code",
   "execution_count": null,
   "metadata": {},
   "outputs": [],
   "source": [
    "processed_stats['node_count']"
   ]
  },
  {
   "cell_type": "code",
   "execution_count": null,
   "metadata": {},
   "outputs": [],
   "source": [
    "node_count_comparison = raw_stats['node_count'] - processed_stats[\"node_count\"]\n",
    "nc_percentage = ((processed_stats[\"node_count\"]/ raw_stats['node_count'] ) - 1) * 100\n",
    "edge_count_comparison = raw_stats['edge_count'] - processed_stats[\"edge_count\"]\n",
    "edge_percentage = ((processed_stats[\"edge_count\"]/ raw_stats['edge_count'] ) - 1) * 100\n",
    "print(f\"Reduced node count by: {node_count_comparison} ({nc_percentage}%)\")\n",
    "print(f\"Reduced edge count by: {edge_count_comparison} ({edge_percentage}%)\")"
   ]
  },
  {
   "cell_type": "markdown",
   "metadata": {},
   "source": [
    "# Plot processed graph"
   ]
  },
  {
   "cell_type": "code",
   "execution_count": null,
   "metadata": {},
   "outputs": [],
   "source": []
  },
  {
   "cell_type": "code",
   "execution_count": null,
   "metadata": {},
   "outputs": [],
   "source": [
    "base_dir = f'{ROOT_DIR}/output'\n",
    "airport  = 'ksea'\n",
    "graph_file = os.path.join(base_dir, airport, 'semantic_graph.pkl')\n",
    "with open(graph_file, 'rb') as f:\n",
    "    temp_dict = pickle.load(f)\n",
    "processed_graph  = temp_dict['map_infos']['all_polylines'][:, map_idxs]\n",
    "hold_lines  = temp_dict['hold_lines']\n",
    "hold_lines.shape"
   ]
  },
  {
   "cell_type": "code",
   "execution_count": null,
   "metadata": {},
   "outputs": [],
   "source": [
    "from amelia_maps.utils.graph_utils import plot_context\n",
    "_, global_map= plt.subplots(figsize=(20, 20), dpi=500)\n",
    "plot_context(processed_graph, global_map)"
   ]
  },
  {
   "cell_type": "code",
   "execution_count": null,
   "metadata": {},
   "outputs": [],
   "source": []
  }
 ],
 "metadata": {
  "kernelspec": {
   "display_name": "Python 3.8.10 64-bit",
   "language": "python",
   "name": "python3"
  },
  "language_info": {
   "codemirror_mode": {
    "name": "ipython",
    "version": 3
   },
   "file_extension": ".py",
   "mimetype": "text/x-python",
   "name": "python",
   "nbconvert_exporter": "python",
   "pygments_lexer": "ipython3",
   "version": "3.9.19"
  },
  "orig_nbformat": 4,
  "vscode": {
   "interpreter": {
    "hash": "916dbcbb3f70747c44a77c7bcd40155683ae19c65e1c03b4aa3499c5328201f1"
   }
  }
 },
 "nbformat": 4,
 "nbformat_minor": 2
}
